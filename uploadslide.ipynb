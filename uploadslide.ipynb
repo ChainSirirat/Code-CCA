{
 "cells": [
  {
   "cell_type": "code",
   "execution_count": null,
   "metadata": {},
   "outputs": [],
   "source": [
    "!pip install girder-client"
   ]
  },
  {
   "cell_type": "code",
   "execution_count": null,
   "metadata": {},
   "outputs": [],
   "source": [
    "import girder_client\n",
    "import glob\n",
    "import os\n",
    " "
   ]
  },
  {
   "cell_type": "code",
   "execution_count": null,
   "metadata": {},
   "outputs": [],
   "source": [
    "# upload for multiple slide\n",
    "# pip install girder-client\n",
    "# import girder_client\n",
    "# import os\n",
    "# def Upload_slide(slide):\n",
    "# Path\n",
    "path = \"\"\n",
    "\n",
    "for i, filename in enumerate(os.listdir(path)):\n",
    "    if '.svs' in filename :\n",
    "    # Join various path components\n",
    "    # filename = os.path.splitext(filename)[0]\n",
    "        PATH = os.path.join(path, filename)\n",
    "    # api url\n",
    "        gc = girder_client.GirderClient(apiUrl='')\n",
    "    # api key\n",
    "        gc.authenticate(apiKey='')\n",
    "        gc.authenticate('', '')\n",
    "     # folder id\\n\",\n",
    "        folder_id = ''\n",
    "     # name slide\n",
    "        item = gc.createItem(folder_id, filename, 'a description')\n",
    "\n",
    "     # upload file\n",
    "       gc.uploadFileToItem(item['_id'], PATH)\n",
    "# return gc.uploadFileToItem(item['_id'], PATH )\"\n"
   ]
  },
  {
   "cell_type": "code",
   "execution_count": null,
   "metadata": {},
   "outputs": [],
   "source": [
    "# upload for single slide\n",
    "# pip install girder-client\n",
    "\n",
    "# import girder_client\\n\",\n",
    "# import os \\n\",\n",
    "\n",
    "# def Upload_slide(slide):\\n\",\n",
    "# Path \\n\",\n",
    "path = \"\"\n",
    "# for i, filename in enumerate(os.listdir(path)): \n",
    "# Join various path components\n",
    "# filename = os.path.splitext(filename)[0]\n",
    "# PATH = os.path.join(path, filename + \\\".svs\\\")\n",
    "\n",
    "# api url\n",
    "gc = girder_client.GirderClient(apiUrl='')\n",
    "\n",
    "# api key\n",
    "gc.authenticate(apiKey='')\n",
    "gc.authenticate('', '')\n",
    "# folder id\n",
    "folder_id = ''\n",
    "\n",
    "# name slide\n",
    "item = gc.createItem(folder_id, '', 'a description')\n",
    "\n",
    "# upload file\n",
    "gc.uploadFileToItem(item['_id'], path)\n",
    "\n",
    "# return gc.uploadFileToItem(item['_id'], PATH )\"\n",
    " "
   ]
  },
  {
   "cell_type": "code",
   "execution_count": null,
   "metadata": {},
   "outputs": [],
   "source": []
  },
  {
   "cell_type": "code",
   "execution_count": null,
   "metadata": {},
   "outputs": [],
   "source": []
  },
  {
   "cell_type": "code",
   "execution_count": null,
   "metadata": {},
   "outputs": [],
   "source": []
  },
  {
   "cell_type": "code",
   "execution_count": null,
   "metadata": {},
   "outputs": [],
   "source": []
  }
 ],
 "metadata": {
  "kernelspec": {
   "display_name": "Python 3",
   "language": "python",
   "name": "python3"
  },
  "language_info": {
   "codemirror_mode": {
    "name": "ipython",
    "version": 3
   },
   "file_extension": ".py",
   "mimetype": "text/x-python",
   "name": "python",
   "nbconvert_exporter": "python",
   "pygments_lexer": "ipython3",
   "version": "3.7.4"
  }
 },
 "nbformat": 4,
 "nbformat_minor": 2
}
